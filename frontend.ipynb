{
 "cells": [
  {
   "cell_type": "code",
   "execution_count": 1,
   "id": "2a1097fd-ffe9-44ff-90ed-dfa71dd5baee",
   "metadata": {},
   "outputs": [
    {
     "name": "stdout",
     "output_type": "stream",
     "text": [
      "WARNING:tensorflow:From C:\\Users\\trvig\\AppData\\Local\\Programs\\Python\\Python311\\Lib\\site-packages\\keras\\src\\losses.py:2976: The name tf.losses.sparse_softmax_cross_entropy is deprecated. Please use tf.compat.v1.losses.sparse_softmax_cross_entropy instead.\n",
      "\n",
      "WARNING:tensorflow:From C:\\Users\\trvig\\AppData\\Local\\Programs\\Python\\Python311\\Lib\\site-packages\\keras\\src\\backend.py:1398: The name tf.executing_eagerly_outside_functions is deprecated. Please use tf.compat.v1.executing_eagerly_outside_functions instead.\n",
      "\n",
      "WARNING:tensorflow:From C:\\Users\\trvig\\AppData\\Local\\Programs\\Python\\Python311\\Lib\\site-packages\\keras\\src\\layers\\pooling\\max_pooling2d.py:161: The name tf.nn.max_pool is deprecated. Please use tf.nn.max_pool2d instead.\n",
      "\n",
      "WARNING:tensorflow:From C:\\Users\\trvig\\AppData\\Local\\Programs\\Python\\Python311\\Lib\\site-packages\\keras\\src\\optimizers\\__init__.py:309: The name tf.train.Optimizer is deprecated. Please use tf.compat.v1.train.Optimizer instead.\n",
      "\n",
      "Running on local URL:  http://127.0.0.1:7861\n",
      "\n",
      "To create a public link, set `share=True` in `launch()`.\n"
     ]
    },
    {
     "data": {
      "text/html": [
       "<div><iframe src=\"http://127.0.0.1:7861/\" width=\"100%\" height=\"500\" allow=\"autoplay; camera; microphone; clipboard-read; clipboard-write;\" frameborder=\"0\" allowfullscreen></iframe></div>"
      ],
      "text/plain": [
       "<IPython.core.display.HTML object>"
      ]
     },
     "metadata": {},
     "output_type": "display_data"
    },
    {
     "data": {
      "text/plain": []
     },
     "execution_count": 1,
     "metadata": {},
     "output_type": "execute_result"
    }
   ],
   "source": [
    "import gradio as gr\n",
    "import numpy as np\n",
    "from keras.models import Sequential, Model\n",
    "from keras.layers import Dense, Conv2D, Dropout, Flatten, MaxPooling2D, Input\n",
    "from PIL import Image\n",
    "\n",
    "input_shape = (128, 128, 1)\n",
    "\n",
    "inputs = Input(shape=input_shape)\n",
    "conv_1 = Conv2D(32, kernel_size=(3, 3), activation='relu', input_shape=input_shape)(inputs)\n",
    "maxp_1 = MaxPooling2D(pool_size=(2, 2))(conv_1)\n",
    "conv_2 = Conv2D(64, kernel_size=(3, 3), activation='relu')(maxp_1)\n",
    "maxp_2 = MaxPooling2D(pool_size=(2, 2))(conv_2)\n",
    "conv_3 = Conv2D(128, kernel_size=(3, 3), activation='relu')(maxp_2)\n",
    "maxp_3 = MaxPooling2D(pool_size=(2, 2))(conv_3)\n",
    "conv_4 = Conv2D(256, kernel_size=(3, 3), activation='relu')(maxp_3)\n",
    "maxp_4 = MaxPooling2D(pool_size=(2, 2))(conv_4)\n",
    "flatten = Flatten()(maxp_4)\n",
    "dense_1 = Dense(256, activation='relu')(flatten)\n",
    "dense_2 = Dense(256, activation='relu')(flatten)\n",
    "dropout_1 = Dropout(0.3)(dense_1)\n",
    "dropout_2 = Dropout(0.3)(dense_2)\n",
    "output_1 = Dense(1, activation='sigmoid', name='gender_out')(dropout_1)\n",
    "output_2 = Dense(1, activation='relu', name='age_out')(dropout_2)\n",
    "\n",
    "model = Model(inputs=[inputs], outputs=[output_1, output_2])\n",
    "model.compile(loss=['binary_crossentropy', 'mae'], optimizer='adam', metrics=['accuracy'])\n",
    "\n",
    "model.load_weights('model_weights.h5', by_name=True)\n",
    "\n",
    "def predict_age_gender(image):\n",
    "    try:\n",
    "        image = Image.fromarray((image * 255).astype('uint8')) \n",
    "        image = image.convert('L')  \n",
    "        image = image.resize((128, 128), resample=Image.LANCZOS) \n",
    "        image = np.array(image).reshape(1, 128, 128, 1) / 255.0  \n",
    "        pred = model.predict(image)\n",
    "        predicted_age_group = \"Child\" if pred[1][0] <= 12 else \"Not a Child\"\n",
    "        \n",
    "        return f\"Age Group: {predicted_age_group}\"\n",
    "    except Exception as e:\n",
    "        return f\"Error: {str(e)}\"\n",
    "\n",
    "\n",
    "iface = gr.Interface(fn=predict_age_gender, inputs=\"image\", outputs=\"text\", live=True)\n",
    "iface.launch()\n"
   ]
  }
 ],
 "metadata": {
  "kernelspec": {
   "display_name": "Python 3 (ipykernel)",
   "language": "python",
   "name": "python3"
  },
  "language_info": {
   "codemirror_mode": {
    "name": "ipython",
    "version": 3
   },
   "file_extension": ".py",
   "mimetype": "text/x-python",
   "name": "python",
   "nbconvert_exporter": "python",
   "pygments_lexer": "ipython3",
   "version": "3.11.5"
  }
 },
 "nbformat": 4,
 "nbformat_minor": 5
}
